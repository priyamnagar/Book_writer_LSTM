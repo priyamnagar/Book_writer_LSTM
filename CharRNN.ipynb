{
 "cells": [
  {
   "cell_type": "markdown",
   "metadata": {
    "colab_type": "text",
    "id": "nAZiJaK9qOMn"
   },
   "source": [
    "**Import libraries**"
   ]
  },
  {
   "cell_type": "code",
   "execution_count": 0,
   "metadata": {
    "colab": {},
    "colab_type": "code",
    "collapsed": true,
    "id": "g_VntqxIqLOs"
   },
   "outputs": [],
   "source": [
    "%matplotlib inline\n",
    "import torch\n",
    "from torch import nn, optim\n",
    "import numpy as np\n",
    "import torch.nn.functional as F"
   ]
  },
  {
   "cell_type": "code",
   "execution_count": 2,
   "metadata": {
    "colab": {
     "base_uri": "https://localhost:8080/",
     "height": 122
    },
    "colab_type": "code",
    "collapsed": false,
    "id": "XRuef6RFnX3m",
    "outputId": "cd0b6d31-81d9-45d8-bdeb-095c856e9489"
   },
   "outputs": [
    {
     "name": "stdout",
     "output_type": "stream",
     "text": [
      "Go to this URL in a browser: https://accounts.google.com/o/oauth2/auth?client_id=947318989803-6bn6qk8qdgf4n4g3pfee6491hc0brc4i.apps.googleusercontent.com&redirect_uri=urn%3Aietf%3Awg%3Aoauth%3A2.0%3Aoob&scope=email%20https%3A%2F%2Fwww.googleapis.com%2Fauth%2Fdocs.test%20https%3A%2F%2Fwww.googleapis.com%2Fauth%2Fdrive%20https%3A%2F%2Fwww.googleapis.com%2Fauth%2Fdrive.photos.readonly%20https%3A%2F%2Fwww.googleapis.com%2Fauth%2Fpeopleapi.readonly&response_type=code\n",
      "\n",
      "Enter your authorization code:\n",
      "··········\n",
      "Mounted at /gdrive\n"
     ]
    }
   ],
   "source": [
    "from google.colab import drive\n",
    "drive.mount('/gdrive')"
   ]
  },
  {
   "cell_type": "code",
   "execution_count": 0,
   "metadata": {
    "colab": {},
    "colab_type": "code",
    "collapsed": true,
    "id": "RcnVS4zJnX2T"
   },
   "outputs": [],
   "source": [
    "with open('/gdrive/My Drive/colab_data/anna.txt', 'r') as f:\n",
    "  data=f.read()"
   ]
  },
  {
   "cell_type": "markdown",
   "metadata": {
    "colab_type": "text",
    "id": "DkJGDNh4oEvw"
   },
   "source": [
    "**Create dictionaries for converting Int to Char**"
   ]
  },
  {
   "cell_type": "code",
   "execution_count": 0,
   "metadata": {
    "colab": {},
    "colab_type": "code",
    "collapsed": true,
    "id": "wScT5y_poHGI"
   },
   "outputs": [],
   "source": [
    "int2char=dict(enumerate(set(data)))"
   ]
  },
  {
   "cell_type": "markdown",
   "metadata": {
    "colab_type": "text",
    "id": "1F08Wt6wok0C"
   },
   "source": [
    "**Char to int**"
   ]
  },
  {
   "cell_type": "code",
   "execution_count": 0,
   "metadata": {
    "colab": {},
    "colab_type": "code",
    "collapsed": true,
    "id": "6HcQS7HLoRSh"
   },
   "outputs": [],
   "source": [
    "char2int={x:y for y,x in int2char.items()}"
   ]
  },
  {
   "cell_type": "code",
   "execution_count": 0,
   "metadata": {
    "colab": {},
    "colab_type": "code",
    "collapsed": true,
    "id": "Jb6ct9Ncpf9T"
   },
   "outputs": [],
   "source": [
    "encoded=np.array([char2int[x]for x in data])"
   ]
  },
  {
   "cell_type": "markdown",
   "metadata": {
    "colab_type": "text",
    "id": "wM5bRyBQpJlI"
   },
   "source": [
    "**Generator for getting Batches and Sequences during training**"
   ]
  },
  {
   "cell_type": "code",
   "execution_count": 0,
   "metadata": {
    "colab": {},
    "colab_type": "code",
    "collapsed": true,
    "id": "dmcv2xWXpDpX"
   },
   "outputs": [],
   "source": [
    "def create_sequences(arr, batch_size, seq_length):\n",
    "    batch_size_total = batch_size * seq_length\n",
    "    # total number of batches we can make\n",
    "    n_batches = len(arr)//batch_size_total\n",
    "    \n",
    "    # Keep only enough characters to make full batches\n",
    "    arr = arr[:n_batches * batch_size_total]\n",
    "    # Reshape into batch_size rows\n",
    "    arr = arr.reshape((batch_size, -1))\n",
    "    \n",
    "    # iterate through the array, one sequence at a time\n",
    "    for n in range(0, arr.shape[1], seq_length):\n",
    "        # The features\n",
    "        x = arr[:, n:n+seq_length]\n",
    "        # The targets, shifted by one\n",
    "        y = np.zeros_like(x)\n",
    "        try:\n",
    "            y[:, :-1], y[:, -1] = x[:, 1:], arr[:, n+seq_length]\n",
    "        except IndexError:\n",
    "            y[:, :-1], y[:, -1] = x[:, 1:], arr[:, 0]\n",
    "        yield x, y"
   ]
  },
  {
   "cell_type": "code",
   "execution_count": 0,
   "metadata": {
    "colab": {
     "base_uri": "https://localhost:8080/",
     "height": 306
    },
    "colab_type": "code",
    "collapsed": false,
    "id": "e_ZYcdatpYmz",
    "outputId": "98a24e02-c6bc-4344-a552-62f6b016e8f8"
   },
   "outputs": [
    {
     "name": "stdout",
     "output_type": "stream",
     "text": [
      "(8, 50) (8, 50)\n",
      "x :  [[13  8 18 75 10 50 29 69 70 25]\n",
      " [16 65 60 69 10  8 18 10 69 18]\n",
      " [50 60 32 69 65 29 69 18 69 71]\n",
      " [16 69 10  8 50 69 23  8 58 50]\n",
      " [69 16 18 34 69  8 50 29 69 10]\n",
      " [23  2 16 16 58 65 60 69 18 60]\n",
      " [69  3 60 60 18 69  8 18 32 69]\n",
      " [51 53 64 65 60 16  1 72  4 69]]\n",
      "y :  [[ 8 18 75 10 50 29 69 70 25 25]\n",
      " [65 60 69 10  8 18 10 69 18 10]\n",
      " [60 32 69 65 29 69 18 69 71 65]\n",
      " [69 10  8 50 69 23  8 58 50 71]\n",
      " [16 18 34 69  8 50 29 69 10 50]\n",
      " [ 2 16 16 58 65 60 69 18 60 32]\n",
      " [ 3 60 60 18 69  8 18 32 69 16]\n",
      " [53 64 65 60 16  1 72  4 69 68]]\n"
     ]
    }
   ],
   "source": [
    "# print(len(encoded))\n",
    "x,y=next(create_sequences(encoded,8,50))\n",
    "print(x.shape,y.shape)\n",
    "print(\"x : \",x[:10,:10])\n",
    "\n",
    "print(\"y : \",y[:10,:10])"
   ]
  },
  {
   "cell_type": "markdown",
   "metadata": {
    "colab_type": "text",
    "id": "4eeQQmawsIT7"
   },
   "source": [
    "**Function for converting numbers to One Hot Encoder**"
   ]
  },
  {
   "cell_type": "code",
   "execution_count": 0,
   "metadata": {
    "colab": {},
    "colab_type": "code",
    "collapsed": true,
    "id": "Pt1-1dPhsG_e"
   },
   "outputs": [],
   "source": [
    "def one_hot_encode(arr, n_labels):\n",
    "    \n",
    "    # Initialize the the encoded array\n",
    "    one_hot = np.zeros((np.multiply(*arr.shape), n_labels), dtype=np.float32)\n",
    "    \n",
    "    # Fill the appropriate elements with ones\n",
    "    one_hot[np.arange(one_hot.shape[0]), arr.flatten()] = 1.\n",
    "    \n",
    "    # Finally reshape it to get back to the original array\n",
    "    one_hot = one_hot.reshape((*arr.shape, n_labels))\n",
    "    \n",
    "    return one_hot"
   ]
  },
  {
   "cell_type": "markdown",
   "metadata": {
    "colab_type": "text",
    "id": "I745P_W0s4Zl"
   },
   "source": [
    "**Character LSTM Model**"
   ]
  },
  {
   "cell_type": "code",
   "execution_count": 0,
   "metadata": {
    "colab": {},
    "colab_type": "code",
    "collapsed": true,
    "id": "D_epBURJMx-V"
   },
   "outputs": [],
   "source": [
    "class CharRNN(nn.Module):\n",
    "  def __init__(self,n_char,n_hidden=256,n_layers=2,drop_prob=0.3,lr=0.001):\n",
    "    super().__init__()\n",
    "    \n",
    "    self.int2char=dict(enumerate(set(data)))\n",
    "    self.char2int={x:y for y,x in int2char.items()}\n",
    "    self.lr=lr\n",
    "    self.n_char=n_char\n",
    "    self.n_hidden=n_hidden\n",
    "    self.n_layers=n_layers\n",
    "    self.drop_prob=drop_prob\n",
    "    \n",
    "    \n",
    "    self.lstm=nn.LSTM(self.n_char,self.n_hidden,self.n_layers,dropout=self.drop_prob,batch_first=True)\n",
    "    self.dropout=nn.Dropout(self.drop_prob)\n",
    "    self.fc=nn.Linear(self.n_hidden,self.n_char)\n",
    "    \n",
    "    self.softmax=nn.Softmax()\n",
    "    \n",
    "  def forward(self,x,hidden):\n",
    "    x,hidden=self.lstm(x,hidden)\n",
    "#     print(\"LSTM : \",x.shape)|\n",
    "    \n",
    "    x=self.dropout(x)\n",
    "#     print(\"Dropout : \",x.shape)\n",
    "    \n",
    "    x = x.contiguous().view(-1, self.n_hidden)\n",
    "    \n",
    "    x=self.fc(x)\n",
    "#     print(\"FC : \",x.shape)\n",
    "    \n",
    "#     x=self.softmax(x)\n",
    "    \n",
    "    return x,hidden\n",
    "  \n",
    "  def init_hidden(self,batch_size):\n",
    "    weight=next(self.parameters()).data\n",
    "    hidden=(weight.new(self.n_layers,batch_size,self.n_hidden).zero_().cuda(),\n",
    "            weight.new(self.n_layers,batch_size,self.n_hidden).zero_().cuda())\n",
    "    return hidden\n",
    "    "
   ]
  },
  {
   "cell_type": "markdown",
   "metadata": {
    "colab_type": "text",
    "id": "uCc2lHqgrton"
   },
   "source": [
    "**Model Object**"
   ]
  },
  {
   "cell_type": "code",
   "execution_count": 0,
   "metadata": {
    "colab": {
     "base_uri": "https://localhost:8080/",
     "height": 119
    },
    "colab_type": "code",
    "collapsed": false,
    "id": "9th5BP5eu0pS",
    "outputId": "f55d4a2f-071e-417b-bfb4-284a910c8968"
   },
   "outputs": [
    {
     "data": {
      "text/plain": [
       "CharRNN(\n",
       "  (lstm): LSTM(83, 512, num_layers=2, batch_first=True, dropout=0.2)\n",
       "  (dropout): Dropout(p=0.2)\n",
       "  (fc): Linear(in_features=512, out_features=83, bias=True)\n",
       "  (softmax): Softmax()\n",
       ")"
      ]
     },
     "execution_count": 58,
     "metadata": {
      "tags": []
     },
     "output_type": "execute_result"
    }
   ],
   "source": [
    "model=CharRNN(n_char=len(tuple(set(data))), n_hidden=512, n_layers=2, drop_prob=0.2, lr=0.001)\n",
    "model.cuda()"
   ]
  },
  {
   "cell_type": "markdown",
   "metadata": {
    "colab_type": "text",
    "id": "VYAyqYH3rxwz"
   },
   "source": [
    "**Get initial weights for input**"
   ]
  },
  {
   "cell_type": "code",
   "execution_count": 0,
   "metadata": {
    "colab": {
     "base_uri": "https://localhost:8080/",
     "height": 34
    },
    "colab_type": "code",
    "collapsed": false,
    "id": "fMLHi4kRxqAR",
    "outputId": "9f617f63-9960-46fa-e8f9-9ce50d458e28"
   },
   "outputs": [
    {
     "name": "stdout",
     "output_type": "stream",
     "text": [
      "(512, 512)\n"
     ]
    }
   ],
   "source": [
    "hidden=model.init_hidden(128)\n",
    "print((len(hidden[0][0][0]),len(hidden[1][0][0])))"
   ]
  },
  {
   "cell_type": "markdown",
   "metadata": {
    "colab_type": "text",
    "id": "mvcUIf9RA_1X"
   },
   "source": [
    "**Training objects**"
   ]
  },
  {
   "cell_type": "code",
   "execution_count": 0,
   "metadata": {
    "colab": {},
    "colab_type": "code",
    "collapsed": true,
    "id": "_mqtgeZXCkj3"
   },
   "outputs": [],
   "source": [
    "criterion=nn.CrossEntropyLoss()\n",
    "optimizer=optim.Adam(model.parameters(),lr=model.lr)"
   ]
  },
  {
   "cell_type": "markdown",
   "metadata": {
    "colab_type": "text",
    "id": "6dKy46ZEr6Y5"
   },
   "source": [
    "**Train**"
   ]
  },
  {
   "cell_type": "code",
   "execution_count": 0,
   "metadata": {
    "colab": {
     "base_uri": "https://localhost:8080/",
     "height": 612
    },
    "colab_type": "code",
    "collapsed": false,
    "id": "rNxMlSr2BFJx",
    "outputId": "8070f83f-fa98-4352-919d-f5716f050da0"
   },
   "outputs": [
    {
     "name": "stdout",
     "output_type": "stream",
     "text": [
      "Training loss :  0.015535097299143673\n",
      "Training loss :  0.015235918238759041\n",
      "Training loss :  0.014978739526122808\n",
      "Training loss :  0.014724350916221738\n",
      "Training loss :  0.014478517239913344\n",
      "Training loss :  0.014271963750943542\n",
      "Training loss :  0.014086047038435936\n",
      "Training loss :  0.013908609487116337\n",
      "Training loss :  0.013744011344388128\n",
      "Training loss :  0.013590997578576207\n",
      "Training loss :  0.013450111886486411\n",
      "Training loss :  0.013325350722298027\n",
      "Training loss :  0.013185132704675197\n",
      "Training loss :  0.013056178614497184\n",
      "Training loss :  0.012949336934834719\n",
      "Training loss :  0.012832386232912541\n",
      "Training loss :  0.01273253588937223\n",
      "Training loss :  0.012637988375499844\n",
      "Training loss :  0.01253236404620111\n",
      "Training loss :  0.012436707555316388\n",
      "Training loss :  0.012345033269375562\n",
      "Training loss :  0.012243977687321604\n",
      "Training loss :  0.012165154232643544\n",
      "Training loss :  0.012071078973822296\n",
      "Training loss :  0.012003877540118993\n",
      "Training loss :  0.011921610250137746\n",
      "Training loss :  0.011853064312599599\n",
      "Training loss :  0.011787935183383525\n",
      "Training loss :  0.011725741387344897\n",
      "Training loss :  0.011670647840946912\n",
      "Training loss :  0.011614644885994493\n",
      "Training loss :  0.011545683122240007\n",
      "Training loss :  0.011462440877221525\n",
      "Training loss :  0.011394829275086522\n",
      "Training loss :  0.011323602604679763\n"
     ]
    }
   ],
   "source": [
    "epochs=35\n",
    "batch_size=128\n",
    "for e in range(epochs):\n",
    "  running_loss=0\n",
    "  h=model.init_hidden(batch_size)\n",
    "  for x,y in create_sequences(encoded,128,100):\n",
    "    x = one_hot_encode(x, len(set(data)))\n",
    "#     y = one_hot_encode(y, len(set(data)))\n",
    "    x=torch.from_numpy(x).cuda()\n",
    "    y=torch.from_numpy(y).cuda()\n",
    "    \n",
    "    model.zero_grad()\n",
    "    logits,h=model(x,h)\n",
    "    y=y.view(batch_size*100).long()\n",
    "#     print(logits.shape,y.shape)\n",
    "    loss=criterion(logits,y)\n",
    "    loss.backward()\n",
    "    \n",
    "    optimizer.step()\n",
    "    \n",
    "    running_loss+=loss.item()\n",
    "  else:\n",
    "    print('Training loss : ',running_loss/12800)\n",
    "    \n",
    "    "
   ]
  },
  {
   "cell_type": "markdown",
   "metadata": {
    "colab_type": "text",
    "id": "Wv3b9O0Or8X_"
   },
   "source": [
    "**Prediction function**"
   ]
  },
  {
   "cell_type": "code",
   "execution_count": 0,
   "metadata": {
    "colab": {},
    "colab_type": "code",
    "collapsed": true,
    "id": "bzwusI-uBcPB"
   },
   "outputs": [],
   "source": [
    "def predict(net, char, h=None, top_k=None):\n",
    "        ''' Given a character, predict the next character.\n",
    "            Returns the predicted character and the hidden state.\n",
    "        '''\n",
    "        \n",
    "        # tensor inputs\n",
    "        x = np.array([[net.char2int[char]]])\n",
    "        x = one_hot_encode(x, net.n_char)\n",
    "        inputs = torch.from_numpy(x)\n",
    "        \n",
    "        inputs = inputs.cuda()\n",
    "        \n",
    "        # detach hidden state from history\n",
    "        h = tuple([each.data for each in h])\n",
    "        # get the output of the model\n",
    "        out, h = net(inputs, h)\n",
    "\n",
    "        # get the character probabilities\n",
    "        p = F.softmax(out, dim=1).data\n",
    "        p = p.cpu() # move to cpu\n",
    "        \n",
    "        # get top characters\n",
    "        if top_k is None:\n",
    "            top_ch = np.arange(len(net.chars))\n",
    "        else:\n",
    "            p, top_ch = p.topk(top_k)\n",
    "            top_ch = top_ch.numpy().squeeze()\n",
    "        \n",
    "        # select the likely next character with some element of randomness\n",
    "        p = p.numpy().squeeze()\n",
    "        char = np.random.choice(top_ch, p=p/p.sum())\n",
    "        \n",
    "        # return the encoded value of the predicted char and the hidden state\n",
    "        return net.int2char[char], h"
   ]
  },
  {
   "cell_type": "code",
   "execution_count": 0,
   "metadata": {
    "colab": {},
    "colab_type": "code",
    "collapsed": true,
    "id": "jKwTrNgvpFi7"
   },
   "outputs": [],
   "source": [
    "def sample(net, size, prime='The', top_k=None):\n",
    "        \n",
    "    net.cuda()\n",
    "    \n",
    "    net.eval() # eval mode\n",
    "    \n",
    "    # First off, run through the prime characters\n",
    "    chars = [ch for ch in prime]\n",
    "    h = net.init_hidden(1)\n",
    "    for ch in prime:\n",
    "        char, h = predict(net, ch, h, top_k=top_k)\n",
    "\n",
    "    chars.append(char)\n",
    "    \n",
    "    # Now pass in the previous character and get a new one\n",
    "    for ii in range(size):\n",
    "        char, h = predict(net, chars[-1], h, top_k=top_k)\n",
    "        chars.append(char)\n",
    "\n",
    "    return ''.join(chars)"
   ]
  },
  {
   "cell_type": "markdown",
   "metadata": {
    "colab_type": "text",
    "id": "HU6MWFC1sBFk"
   },
   "source": [
    "**Print Output**"
   ]
  },
  {
   "cell_type": "code",
   "execution_count": 0,
   "metadata": {
    "colab": {
     "base_uri": "https://localhost:8080/",
     "height": 323
    },
    "colab_type": "code",
    "collapsed": false,
    "id": "NWs1uwVipGS2",
    "outputId": "990e76cc-f00d-4d67-c395-a7224369cf14"
   },
   "outputs": [
    {
     "name": "stdout",
     "output_type": "stream",
     "text": [
      "Anna Arkadyevna's children sat down and\n",
      "seemed to him an impression of his life, who could not help straight\n",
      "into her hoofe, where the crown words of his part, still less for the face,\n",
      "her sister had told her to the low of the room, and with a thurder\n",
      "signested his hands, and, smiling, and her eyes like her. And she\n",
      "did not hust any considerate from the old cressey that a subjuct and some wink of\n",
      "agreement, he had not reached the table, stopped something at the spot. And\n",
      "again had not the society chest of their conversation alone with her,\n",
      "as it were, as though he did not let them fall, he could not attent to\n",
      "something.\n",
      "\n",
      "Anna said her hat. \"He did not conceive that I don't care,\" said Stepan\n",
      "Arkadyevitch, \"that which was a woman who did not know.\"\n",
      "\n",
      "\"No, it's all right, that I can can never have saying at home, as I have come for a\n",
      "moment an impossible to any fanly diverted, and I'm all about it, that\n",
      "I have been enginged by me to arrive with him. And tell me as a touch\n",
      "of who has been since\n"
     ]
    }
   ],
   "source": [
    "print(sample(model, 1000, prime='Anna', top_k=5))"
   ]
  },
  {
   "cell_type": "code",
   "execution_count": 0,
   "metadata": {
    "colab": {},
    "colab_type": "code",
    "collapsed": true,
    "id": "XOfvvklwpItJ"
   },
   "outputs": [],
   "source": []
  }
 ],
 "metadata": {
  "accelerator": "GPU",
  "colab": {
   "collapsed_sections": [],
   "name": "CharRNN.ipynb",
   "provenance": [],
   "version": "0.3.2"
  },
  "kernelspec": {
   "display_name": "Python 3",
   "language": "python",
   "name": "python3"
  },
  "language_info": {
   "codemirror_mode": {
    "name": "ipython",
    "version": 3
   },
   "file_extension": ".py",
   "mimetype": "text/x-python",
   "name": "python",
   "nbconvert_exporter": "python",
   "pygments_lexer": "ipython3",
   "version": "3.5.6"
  }
 },
 "nbformat": 4,
 "nbformat_minor": 0
}
